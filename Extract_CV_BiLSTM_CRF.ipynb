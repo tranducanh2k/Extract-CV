{
  "nbformat": 4,
  "nbformat_minor": 0,
  "metadata": {
    "colab": {
      "name": "Extract_CV_BiLSTM_CRF",
      "provenance": [],
      "collapsed_sections": [],
      "authorship_tag": "ABX9TyNLWSRx3oJ0YBdon3lkm94Y",
      "include_colab_link": true
    },
    "kernelspec": {
      "name": "python3",
      "display_name": "Python 3"
    },
    "language_info": {
      "name": "python"
    },
    "accelerator": "GPU"
  },
  "cells": [
    {
      "cell_type": "markdown",
      "metadata": {
        "id": "view-in-github",
        "colab_type": "text"
      },
      "source": [
        "<a href=\"https://colab.research.google.com/github/hauduong05/NER_Extract_CV/blob/main/Extract_CV_BiLSTM_CRF.ipynb\" target=\"_parent\"><img src=\"https://colab.research.google.com/assets/colab-badge.svg\" alt=\"Open In Colab\"/></a>"
      ]
    },
    {
      "cell_type": "code",
      "metadata": {
        "colab": {
          "base_uri": "https://localhost:8080/"
        },
        "id": "bvVqJq-qPumF",
        "outputId": "53c9bc59-ea78-430a-eb08-c4c4ea6168e9"
      },
      "source": [
        "from google.colab import drive\n",
        "drive.mount('/content/drive')"
      ],
      "execution_count": null,
      "outputs": [
        {
          "output_type": "stream",
          "text": [
            "Mounted at /content/drive\n"
          ],
          "name": "stdout"
        }
      ]
    },
    {
      "cell_type": "code",
      "metadata": {
        "id": "VghmlaZJvtFf"
      },
      "source": [
        "!pip install torchkeras"
      ],
      "execution_count": null,
      "outputs": []
    },
    {
      "cell_type": "code",
      "metadata": {
        "id": "BtqlY_qXvvvG",
        "colab": {
          "base_uri": "https://localhost:8080/"
        },
        "outputId": "1d134fb4-b439-426f-ccce-d77fe88b6dd9"
      },
      "source": [
        "!pip install pytorch-crf"
      ],
      "execution_count": null,
      "outputs": [
        {
          "output_type": "stream",
          "text": [
            "Collecting pytorch-crf\n",
            "  Downloading https://files.pythonhosted.org/packages/96/7d/4c4688e26ea015fc118a0327e5726e6596836abce9182d3738be8ec2e32a/pytorch_crf-0.7.2-py3-none-any.whl\n",
            "Installing collected packages: pytorch-crf\n",
            "Successfully installed pytorch-crf-0.7.2\n"
          ],
          "name": "stdout"
        }
      ]
    },
    {
      "cell_type": "code",
      "metadata": {
        "id": "QXxVgy5vP6Jz"
      },
      "source": [
        "import pandas as pd\n",
        "import numpy as np\n",
        "import torch\n",
        "import torch.nn as nn\n",
        "from torch.utils.data import DataLoader, TensorDataset\n",
        "import time\n",
        "from tqdm import tqdm\n",
        "from keras.preprocessing.sequence import pad_sequences\n",
        "import matplotlib.pyplot as plt\n",
        "from sklearn.metrics import accuracy_score, precision_score, recall_score, f1_score, \\\n",
        "                            confusion_matrix, classification_report\n",
        "import torchkeras\n",
        "from torchcrf import CRF"
      ],
      "execution_count": null,
      "outputs": []
    },
    {
      "cell_type": "code",
      "metadata": {
        "id": "AUU9Bn-pRfEV"
      },
      "source": [
        "# read data\n",
        "\n",
        "header_names = ['Word', 'POS', 'Chunking-Tag', 'Tag']\n",
        "\n",
        "train_dt = pd.read_csv('/content/drive/MyDrive/NER/train-1.csv', sep=r'\\t', names=header_names)\n",
        "val_dt = pd.read_csv('/content/drive/MyDrive/NER/dev-1.csv', sep=r'\\t', names=header_names)\n",
        "test_dt = pd.read_csv('/content/drive/MyDrive/NER/test-1.csv', sep=r'\\t', names=header_names)\n",
        "\n",
        "data = pd.concat([train_dt, val_dt, test_dt])\n",
        "print(data)"
      ],
      "execution_count": null,
      "outputs": []
    },
    {
      "cell_type": "code",
      "metadata": {
        "id": "BF-E6gIJS7Lc"
      },
      "source": [
        "# handing missing value\n",
        "\n",
        "print(data.isnull().sum())\n",
        "\n",
        "data = data.fillna(method='ffill')\n",
        "train_dt = train_dt.fillna(method='ffill')\n",
        "test_dt = test_dt.fillna(method='ffill')\n",
        "val_dt = val_dt.fillna(method='ffill')"
      ],
      "execution_count": null,
      "outputs": []
    },
    {
      "cell_type": "code",
      "metadata": {
        "colab": {
          "base_uri": "https://localhost:8080/"
        },
        "id": "xCnLACOPXt5e",
        "outputId": "53d5802d-ee91-43e2-9b5f-0d3d349f6c54"
      },
      "source": [
        "# group into sentence\n",
        "\n",
        "def get_sentence(dt):\n",
        "  id = 0\n",
        "  sent = []\n",
        "  w = dt['Word'].values\n",
        "  for i in range(len(w)):\n",
        "    sent.append(id)\n",
        "    if w[i] == '.':\n",
        "      id += 1\n",
        "  dt['Sentence'] = sent\n",
        "  return dt\n",
        "\n",
        "def split_sentence(dt):\n",
        "  dt = get_sentence(dt)\n",
        "  sent = dt.groupby('Sentence')[['Word', 'POS', 'Tag']].apply(lambda s: s.values.tolist())\n",
        "  return sent\n",
        "\n",
        "data_sent = split_sentence(data)\n",
        "print(data_sent)"
      ],
      "execution_count": null,
      "outputs": [
        {
          "output_type": "stream",
          "text": [
            "Sentence\n",
            "0         [[Tạo, V, O], [các, L, O], [Module_Agent, Np, ...\n",
            "1         [[Từ, E, O], [3, M, O], [/, N, O], [2017, N, O...\n",
            "2         [[Vị_Trí, Np, O], [:, CH, O], [Nhân_viên, N, B...\n",
            "3         [[kỹ_năng, N, O], [sử_dụng, V, O], [thành_thạo...\n",
            "4         [[Số, N, O], [ĐT, Ny, O], [ngưi, A, O], [qun, ...\n",
            "                                ...                        \n",
            "108217    [[Nghiên_cứu, N, O], [công_nghệ, N, O], [lưu_t...\n",
            "108218    [[5.5, N, O], [>, N, O], [6.5, M, O], [,, CH, ...\n",
            "108219    [[Bảo_trì, N, O], [Hệ_thống, N, O], [MAM, Np, ...\n",
            "108220    [[Import, Np, O], [dữ_liệu, N, O], [và, C, O],...\n",
            "108221    [[Troubleshoots, Np, O], [kết_nối_mạng, V, O],...\n",
            "Length: 108222, dtype: object\n"
          ],
          "name": "stdout"
        }
      ]
    },
    {
      "cell_type": "code",
      "metadata": {
        "id": "blLl3vrJaMj3"
      },
      "source": [
        "# initial hyper_paremeters\n",
        "\n",
        "batch_size = 128\n",
        "n_epochs = 6\n",
        "embed_dim = 100\n",
        "hidden_dim = 128\n",
        "lr = 0.001\n",
        "maxlen = 150"
      ],
      "execution_count": null,
      "outputs": []
    },
    {
      "cell_type": "code",
      "metadata": {
        "id": "HOeH6LBsX2V0",
        "colab": {
          "base_uri": "https://localhost:8080/"
        },
        "outputId": "fd0ca275-3a5c-4d61-f7a3-cbd2c5baa8c3"
      },
      "source": [
        "# prepare data\n",
        "\n",
        "words = data['Word'].unique()\n",
        "tags = data['Tag'].unique()\n",
        "\n",
        "word_to_id = {w : i + 2 for i, w in enumerate(words)}\n",
        "word_to_id['<pad>'] = 0\n",
        "word_to_id['<unk>'] = 1\n",
        "\n",
        "tag_to_id = {t: i + 1 for i, t in enumerate(tags)}\n",
        "tag_to_id['<pad>'] = 0\n",
        "num_tags = len(tag_to_id)\n",
        "\n",
        "print(tags)\n",
        "\n",
        "def prepare_data(sent, maxlen):\n",
        "  w2id = [[word_to_id[w[0]] for w in s] for s in sent]\n",
        "  t2id = [[tag_to_id[t[2]] for t in s] for s in sent]\n",
        "\n",
        "  X = pad_sequences(w2id, maxlen=maxlen, padding='post', value=0)\n",
        "  y = pad_sequences(t2id, maxlen=maxlen, padding='post', value=0)\n",
        "  X = torch.from_numpy(X).type(torch.long)\n",
        "  y = torch.from_numpy(y).type(torch.long)\n",
        "  return X, y\n",
        "\n",
        "train_sent = split_sentence(train_dt)\n",
        "val_sent = split_sentence(val_dt)\n",
        "test_sent = split_sentence(test_dt)\n",
        "\n",
        "X_train, y_train = prepare_data(train_sent, maxlen)\n",
        "X_val, y_val = prepare_data(val_sent, maxlen)\n",
        "X_test, y_test = prepare_data(test_sent, maxlen)\n",
        "\n",
        "train = TensorDataset(X_train, y_train)\n",
        "val = TensorDataset(X_val, y_val)\n",
        "test = TensorDataset(X_test, y_test)\n",
        "\n",
        "train_loader = DataLoader(train, batch_size = batch_size, shuffle=False, num_workers=4)\n",
        "val_loader = DataLoader(val, batch_size = batch_size, shuffle=False, num_workers=4)\n",
        "test_loader = DataLoader(test, batch_size = batch_size, shuffle=False, num_workers=4)"
      ],
      "execution_count": null,
      "outputs": [
        {
          "output_type": "stream",
          "text": [
            "['O' 'B-SKILL' 'B-POS' 'I-POS' 'B-COM' 'I-COM' 'I-SKILL']\n"
          ],
          "name": "stdout"
        }
      ]
    },
    {
      "cell_type": "code",
      "metadata": {
        "id": "_xekdVlVpf9f"
      },
      "source": [
        "class BiLSTM(nn.Module):\n",
        "  def __init__(self, vocab_size, hidden_dim):\n",
        "    super(BiLSTM, self).__init__()\n",
        "    self.vocab_size = vocab_size\n",
        "    self.hidden_dim = hidden_dim\n",
        "    self.embeds = nn.Embedding(self.vocab_size, embed_dim)\n",
        "    self.lstm = nn.LSTM(embed_dim, self.hidden_dim//2, bidirectional=True, batch_first=True)\n",
        "    self.hidden2tag = nn.Linear(self.hidden_dim, num_tags)\n",
        "    self.crf = CRF(num_tags, batch_first=True)\n",
        "    \n",
        "  def init_hidden(self, batch_size):\n",
        "\n",
        "    return (torch.randn(2, batch_size, self.hidden//2), \n",
        "            torch.randn(2, batch_size, self.hidden//2))\n",
        "    \n",
        "  def forward(self, inp):\n",
        "    self.lstm.flatten_parameters()\n",
        "    embeds = self.embeds(inp)\n",
        "    lstm_out, _ = self.lstm(embeds, None)\n",
        "    feats = self.hidden2tag(lstm_out)\n",
        "\n",
        "    return feats\n",
        "    \n",
        "  def crf_nll(self, inp, tags, mask=None, inp_feats=False):\n",
        "    if inp_feats:\n",
        "      feats = inp\n",
        "    else:\n",
        "      feats = self.forward(inp)\n",
        "    \n",
        "    if mask is None:\n",
        "      mask = torch.logical_not(torch.eq(tags, torch.tensor(0)))\n",
        "      mask = mask.type(torch.uint8)\n",
        "    crf_llh = self.crf(feats, tags, mask, reduction='mean')\n",
        "\n",
        "    return -crf_llh\n",
        "\n",
        "  def crf_decode(self, inp, mask=None, inp_feats=False):\n",
        "    if inp_feats:\n",
        "      feats = inp\n",
        "    else:\n",
        "      feats = self.forward(inp)\n",
        "    \n",
        "    if mask is None and inp_feats is False:\n",
        "      mask = torch.logical_not(torch.eq(inp, torch.tensor(0)))\n",
        "      mask = mask.type(torch.uint8)\n",
        "\n",
        "    return self.crf.decode(emissions=feats, mask=mask)"
      ],
      "execution_count": null,
      "outputs": []
    },
    {
      "cell_type": "code",
      "metadata": {
        "id": "aLKVbqFcwzKI"
      },
      "source": [
        "model = BiLSTM(len(word_to_id), hidden_dim)\n",
        "torchkeras.summary(model, input_shape = (150,), input_dtype = torch.int64)"
      ],
      "execution_count": null,
      "outputs": []
    },
    {
      "cell_type": "code",
      "metadata": {
        "id": "jJsVDexMycVg"
      },
      "source": [
        "metric_func = lambda y_pred, y_true: accuracy_score(y_pred, y_true)\n",
        "df_history = pd.DataFrame(columns=['epoch', 'loss', 'acc', 'val_loss', 'val_acc'])"
      ],
      "execution_count": null,
      "outputs": []
    },
    {
      "cell_type": "code",
      "metadata": {
        "id": "uuKVbpGF6DXP"
      },
      "source": [
        "def train_step(model, inp, tags, optimizer):\n",
        "  inp = inp\n",
        "  tags = tags\n",
        "  mask = torch.logical_not(torch.eq(inp, torch.tensor(0)))\n",
        "  model.train()\n",
        "  optimizer.zero_grad()\n",
        "  feats = model(inp)\n",
        "  loss = model.crf_nll(feats, tags, mask=mask, inp_feats=True)\n",
        "  loss.backward()\n",
        "  optimizer.step()\n",
        "\n",
        "  preds = model.crf_decode(feats, mask=mask, inp_feats=True)\n",
        "  preds_without_pad = []\n",
        "  for pred in preds:\n",
        "    preds_without_pad.extend(pred)\n",
        "  tags_without_pad = torch.masked_select(tags, mask).numpy()\n",
        "  metric = metric_func(preds_without_pad, tags_without_pad)\n",
        "  \n",
        "  return loss.item(), metric"
      ],
      "execution_count": null,
      "outputs": []
    },
    {
      "cell_type": "code",
      "metadata": {
        "id": "q14_mTUo8akI"
      },
      "source": [
        "@torch.no_grad()\n",
        "def val_step(model, inp, tags):\n",
        "  inp = inp\n",
        "  tags = tags\n",
        "  mask = torch.logical_not(torch.eq(inp, torch.tensor(0)))\n",
        "  model.eval()\n",
        "\n",
        "  feats = model(inp)\n",
        "  loss = model.crf_nll(feats, tags, mask=mask, inp_feats=True)\n",
        "\n",
        "  preds = model.crf_decode(feats, mask=mask, inp_feats = True)\n",
        "  preds_without_pad = []\n",
        "  for pred in preds:\n",
        "    preds_without_pad.extend(pred)\n",
        "\n",
        "  tags_without_pad = torch.masked_select(tags, mask).numpy()\n",
        "  metric = metric_func(preds_without_pad, tags_without_pad)\n",
        "\n",
        "  return loss.item(), metric"
      ],
      "execution_count": null,
      "outputs": []
    },
    {
      "cell_type": "code",
      "metadata": {
        "id": "pCsZ1p7k-kBo"
      },
      "source": [
        "def train_model(model, train_loader, val_loader, optimizer, n_epochs):\n",
        "  for epoch in range(1, n_epochs + 1):\n",
        "    loss_sum, metric_sum = 0.0, 0.0\n",
        "    for step, (inp, tags) in enumerate(train_loader, start=1):\n",
        "      loss, metric = train_step(model, inp, tags, optimizer)\n",
        "      loss_sum += loss\n",
        "      metric_sum += metric\n",
        "      if step % 100 == 0:\n",
        "        print('*' * 20, f\"step = {step}, loss : {loss_sum/step:.3f}, acc : {metric_sum/step:.3f}\")\n",
        "      \n",
        "    val_loss_sum , val_acc_sum = 0.0, 0.0\n",
        "    for valid_step, (inp, tags) in enumerate(val_loader, start=1):\n",
        "      loss, metric = val_step(model, inp, tags)\n",
        "      val_loss_sum += loss\n",
        "      val_acc_sum += metric\n",
        "\n",
        "    record = (epoch, loss_sum/step, metric_sum/step, val_loss_sum/valid_step, val_acc_sum/valid_step)\n",
        "    df_history.loc[epoch-1] = record\n",
        "\n",
        "    print('epoch = {}, loss: {:.3f}, acc: {:.3f}, val_loss: {:.3f}, val_acc: {:.3f}'.format(\n",
        "        record[0], record[1], record[2], record[3], record[4]))\n",
        "  \n",
        "  return df_history"
      ],
      "execution_count": null,
      "outputs": []
    },
    {
      "cell_type": "code",
      "metadata": {
        "colab": {
          "base_uri": "https://localhost:8080/",
          "height": 1000
        },
        "id": "Sn3yi4KFGJLM",
        "outputId": "fe8bc9a3-eca7-41cf-c721-35b9fce8c34d"
      },
      "source": [
        "optimizer = torch.optim.Adam(model.parameters(), lr=lr)\n",
        "train_model(model, train_loader, val_loader, optimizer, n_epochs)"
      ],
      "execution_count": null,
      "outputs": [
        {
          "output_type": "stream",
          "text": [
            "/usr/local/lib/python3.7/dist-packages/torch/utils/data/dataloader.py:481: UserWarning: This DataLoader will create 4 worker processes in total. Our suggested max number of worker in current system is 2, which is smaller than what this DataLoader is going to create. Please be aware that excessive worker creation might get DataLoader running slow or even freeze, lower the worker number to avoid potential slowness/freeze if necessary.\n",
            "  cpuset_checked))\n"
          ],
          "name": "stderr"
        },
        {
          "output_type": "stream",
          "text": [
            "******************** step = 100, loss : 4.623, acc : 0.899\n",
            "******************** step = 200, loss : 3.917, acc : 0.914\n",
            "******************** step = 300, loss : 3.527, acc : 0.919\n",
            "******************** step = 400, loss : 3.230, acc : 0.923\n",
            "******************** step = 500, loss : 3.003, acc : 0.927\n",
            "******************** step = 600, loss : 2.841, acc : 0.930\n",
            "epoch = 1, loss: 2.760, acc: 0.931, val_loss: 1.816, val_acc: 0.953\n",
            "******************** step = 100, loss : 1.779, acc : 0.946\n",
            "******************** step = 200, loss : 1.709, acc : 0.949\n",
            "******************** step = 300, loss : 1.695, acc : 0.948\n",
            "******************** step = 400, loss : 1.650, acc : 0.949\n",
            "******************** step = 500, loss : 1.607, acc : 0.950\n",
            "******************** step = 600, loss : 1.580, acc : 0.950\n",
            "epoch = 2, loss: 1.560, acc: 0.951, val_loss: 1.473, val_acc: 0.956\n",
            "******************** step = 100, loss : 1.315, acc : 0.954\n",
            "******************** step = 200, loss : 1.274, acc : 0.956\n",
            "******************** step = 300, loss : 1.281, acc : 0.955\n",
            "******************** step = 400, loss : 1.259, acc : 0.956\n",
            "******************** step = 500, loss : 1.234, acc : 0.956\n",
            "******************** step = 600, loss : 1.221, acc : 0.957\n",
            "epoch = 3, loss: 1.208, acc: 0.957, val_loss: 1.331, val_acc: 0.956\n",
            "******************** step = 100, loss : 1.068, acc : 0.959\n",
            "******************** step = 200, loss : 1.038, acc : 0.961\n",
            "******************** step = 300, loss : 1.050, acc : 0.960\n",
            "******************** step = 400, loss : 1.036, acc : 0.960\n",
            "******************** step = 500, loss : 1.018, acc : 0.961\n",
            "******************** step = 600, loss : 1.009, acc : 0.961\n",
            "epoch = 4, loss: 0.999, acc: 0.961, val_loss: 1.266, val_acc: 0.956\n",
            "******************** step = 100, loss : 0.903, acc : 0.964\n",
            "******************** step = 200, loss : 0.880, acc : 0.965\n",
            "******************** step = 300, loss : 0.894, acc : 0.964\n",
            "******************** step = 400, loss : 0.883, acc : 0.965\n",
            "******************** step = 500, loss : 0.869, acc : 0.965\n",
            "******************** step = 600, loss : 0.862, acc : 0.966\n",
            "epoch = 5, loss: 0.853, acc: 0.966, val_loss: 1.247, val_acc: 0.956\n",
            "******************** step = 100, loss : 0.783, acc : 0.968\n",
            "******************** step = 200, loss : 0.762, acc : 0.969\n",
            "******************** step = 300, loss : 0.776, acc : 0.968\n",
            "******************** step = 400, loss : 0.766, acc : 0.968\n",
            "******************** step = 500, loss : 0.755, acc : 0.969\n",
            "******************** step = 600, loss : 0.748, acc : 0.969\n",
            "epoch = 6, loss: 0.740, acc: 0.970, val_loss: 1.252, val_acc: 0.956\n"
          ],
          "name": "stdout"
        },
        {
          "output_type": "execute_result",
          "data": {
            "text/html": [
              "<div>\n",
              "<style scoped>\n",
              "    .dataframe tbody tr th:only-of-type {\n",
              "        vertical-align: middle;\n",
              "    }\n",
              "\n",
              "    .dataframe tbody tr th {\n",
              "        vertical-align: top;\n",
              "    }\n",
              "\n",
              "    .dataframe thead th {\n",
              "        text-align: right;\n",
              "    }\n",
              "</style>\n",
              "<table border=\"1\" class=\"dataframe\">\n",
              "  <thead>\n",
              "    <tr style=\"text-align: right;\">\n",
              "      <th></th>\n",
              "      <th>epoch</th>\n",
              "      <th>loss</th>\n",
              "      <th>acc</th>\n",
              "      <th>val_loss</th>\n",
              "      <th>val_acc</th>\n",
              "    </tr>\n",
              "  </thead>\n",
              "  <tbody>\n",
              "    <tr>\n",
              "      <th>0</th>\n",
              "      <td>1.0</td>\n",
              "      <td>2.760213</td>\n",
              "      <td>0.931066</td>\n",
              "      <td>1.816104</td>\n",
              "      <td>0.952717</td>\n",
              "    </tr>\n",
              "    <tr>\n",
              "      <th>1</th>\n",
              "      <td>2.0</td>\n",
              "      <td>1.559732</td>\n",
              "      <td>0.950529</td>\n",
              "      <td>1.472561</td>\n",
              "      <td>0.955572</td>\n",
              "    </tr>\n",
              "    <tr>\n",
              "      <th>2</th>\n",
              "      <td>3.0</td>\n",
              "      <td>1.207987</td>\n",
              "      <td>0.956666</td>\n",
              "      <td>1.330720</td>\n",
              "      <td>0.956321</td>\n",
              "    </tr>\n",
              "    <tr>\n",
              "      <th>3</th>\n",
              "      <td>4.0</td>\n",
              "      <td>0.999133</td>\n",
              "      <td>0.961464</td>\n",
              "      <td>1.265869</td>\n",
              "      <td>0.956299</td>\n",
              "    </tr>\n",
              "    <tr>\n",
              "      <th>4</th>\n",
              "      <td>5.0</td>\n",
              "      <td>0.853172</td>\n",
              "      <td>0.965890</td>\n",
              "      <td>1.247306</td>\n",
              "      <td>0.956331</td>\n",
              "    </tr>\n",
              "    <tr>\n",
              "      <th>5</th>\n",
              "      <td>6.0</td>\n",
              "      <td>0.740432</td>\n",
              "      <td>0.969600</td>\n",
              "      <td>1.252497</td>\n",
              "      <td>0.955956</td>\n",
              "    </tr>\n",
              "  </tbody>\n",
              "</table>\n",
              "</div>"
            ],
            "text/plain": [
              "   epoch      loss       acc  val_loss   val_acc\n",
              "0    1.0  2.760213  0.931066  1.816104  0.952717\n",
              "1    2.0  1.559732  0.950529  1.472561  0.955572\n",
              "2    3.0  1.207987  0.956666  1.330720  0.956321\n",
              "3    4.0  0.999133  0.961464  1.265869  0.956299\n",
              "4    5.0  0.853172  0.965890  1.247306  0.956331\n",
              "5    6.0  0.740432  0.969600  1.252497  0.955956"
            ]
          },
          "metadata": {
            "tags": []
          },
          "execution_count": 59
        }
      ]
    },
    {
      "cell_type": "code",
      "metadata": {
        "colab": {
          "base_uri": "https://localhost:8080/",
          "height": 295
        },
        "id": "JF4USNLUVJNA",
        "outputId": "f58d6197-d238-4f80-9c5e-23c6eba513ec"
      },
      "source": [
        "plt.figure()\n",
        "train_loss = df_history['loss']\n",
        "val_loss = df_history['val_loss']\n",
        "epoch = range(1, n_epochs + 1)\n",
        "plt.plot(epoch, train_loss, 'b*--')\n",
        "plt.plot(epoch, val_loss, 'r*--')\n",
        "plt.title('Loss')\n",
        "plt.xlabel('epoch')\n",
        "plt.ylabel('loss')\n",
        "plt.legend(['train_loss', 'val_loss'])\n",
        "plt.show()"
      ],
      "execution_count": null,
      "outputs": [
        {
          "output_type": "display_data",
          "data": {
            "image/png": "[encoded data removed]",
            "text/plain": [
              "<Figure size 432x288 with 1 Axes>"
            ]
          },
          "metadata": {
            "tags": [],
            "needs_background": "light"
          }
        }
      ]
    },
    {
      "cell_type": "code",
      "metadata": {
        "colab": {
          "base_uri": "https://localhost:8080/",
          "height": 295
        },
        "id": "auYJXKTYW5gx",
        "outputId": "6be4cade-a4a0-4144-a597-69cbaa3415ec"
      },
      "source": [
        "train_acc = df_history['acc']\n",
        "val_acc = df_history['val_acc']\n",
        "epoch = range(1, n_epochs + 1)\n",
        "plt.plot(epoch, train_acc, 'b*--')\n",
        "plt.plot(epoch, val_acc, 'r*--')\n",
        "plt.title('Accuracy')\n",
        "plt.xlabel('epoch')\n",
        "plt.ylabel('acc')\n",
        "plt.legend(['train_acc', 'val_acc'])\n",
        "plt.show()"
      ],
      "execution_count": null,
      "outputs": [
        {
          "output_type": "display_data",
          "data": {
            "image/png": "[encoded data removed]",
            "text/plain": [
              "<Figure size 432x288 with 1 Axes>"
            ]
          },
          "metadata": {
            "tags": [],
            "needs_background": "light"
          }
        }
      ]
    },
    {
      "cell_type": "code",
      "metadata": {
        "id": "Ki13ECgEXFd3"
      },
      "source": [
        "@torch.no_grad()\n",
        "def eval_step(model, inps, tags):\n",
        "    inps = inps\n",
        "    tags = tags\n",
        "    mask = torch.logical_not(torch.eq(inps, torch.tensor(0)))  \n",
        "    \n",
        "    feats = model(inps)\n",
        "    preds = model.crf_decode(feats, mask=mask, inp_feats=True)  \n",
        "    pred_without_pad = []\n",
        "    for pred in preds:\n",
        "        pred_without_pad.extend(pred)\n",
        "    tags_without_pad = torch.masked_select(tags, mask) \n",
        "\n",
        "    return torch.tensor(pred_without_pad), tags_without_pad"
      ],
      "execution_count": null,
      "outputs": []
    },
    {
      "cell_type": "code",
      "metadata": {
        "id": "O8eEgyenZIdh"
      },
      "source": [
        "def evaluate(model, test_loader):\n",
        "    model.eval()  \n",
        "    \n",
        "    print('*' * 20, 'start evaluating...')\n",
        "    preds, labels = [], []\n",
        "    for step, (inps, tags) in enumerate(test_loader, start=1):\n",
        "        pred, tags = eval_step(model, inps, tags)\n",
        "        preds.append(pred)\n",
        "        labels.append(tags)\n",
        "\n",
        "    y_true = torch.cat(labels, dim=0)\n",
        "    y_pred = torch.cat(preds, dim=0)\n",
        "    \n",
        "    return y_true, y_pred"
      ],
      "execution_count": null,
      "outputs": []
    },
    {
      "cell_type": "code",
      "metadata": {
        "id": "LtjPKfogZXlx"
      },
      "source": [
        "def get_metrics(y_true, y_pred):\n",
        "    average = 'macro'\n",
        "    print('*'*27, average+'_precision_score:{:.3f}'.format(precision_score(y_true, y_pred, average=average)))\n",
        "    print('*'*27, average+'_recall_score:{:.3}'.format(recall_score(y_true, y_pred, average=average)))\n",
        "    print('*'*27, average+'_f1_score:{:.3f}'.format(f1_score(y_true, y_pred, average=average)))\n",
        "\n",
        "    print('*'*27, 'accuracy:{:.3f}'.format(accuracy_score(y_true, y_pred)))\n",
        "    print('*'*27, 'confusion_matrix:\\n', confusion_matrix(y_true, y_pred))\n",
        "    print('*'*27, ' classification_report: \\n', classification_report(y_true, y_pred, target_names=tags))"
      ],
      "execution_count": null,
      "outputs": []
    },
    {
      "cell_type": "code",
      "metadata": {
        "colab": {
          "base_uri": "https://localhost:8080/"
        },
        "id": "1jq-ZMsxZcIR",
        "outputId": "aaea695b-e42e-4e49-a1ca-d9479d69cd5e"
      },
      "source": [
        "y_true, y_pred = evaluate(model, test_loader)\n",
        "get_metrics(y_true, y_pred)"
      ],
      "execution_count": null,
      "outputs": [
        {
          "output_type": "stream",
          "text": [
            "******************** start evaluating...\n"
          ],
          "name": "stdout"
        },
        {
          "output_type": "stream",
          "text": [
            "/usr/local/lib/python3.7/dist-packages/torch/utils/data/dataloader.py:481: UserWarning: This DataLoader will create 4 worker processes in total. Our suggested max number of worker in current system is 2, which is smaller than what this DataLoader is going to create. Please be aware that excessive worker creation might get DataLoader running slow or even freeze, lower the worker number to avoid potential slowness/freeze if necessary.\n",
            "  cpuset_checked))\n"
          ],
          "name": "stderr"
        },
        {
          "output_type": "stream",
          "text": [
            "*************************** macro_precision_score:0.810\n",
            "*************************** macro_recall_score:0.727\n",
            "*************************** macro_f1_score:0.759\n",
            "*************************** accuracy:0.950\n",
            "*************************** confusion_matrix:\n",
            " [[226420    653    266    802    357   1297    502]\n",
            " [  3677   5775     10     36      7     17    197]\n",
            " [   434     12   1484     56      8     20      0]\n",
            " [   644     18     32   1906      6     21     14]\n",
            " [   549      3     13     35   1935     63      1]\n",
            " [   928      2      5     61     34   6266      4]\n",
            " [  2007     94      0     19      1     13   1752]]\n",
            "***************************  classification_report: \n",
            "               precision    recall  f1-score   support\n",
            "\n",
            "           O       0.96      0.98      0.97    230297\n",
            "     B-SKILL       0.88      0.59      0.71      9719\n",
            "       B-POS       0.82      0.74      0.78      2014\n",
            "       I-POS       0.65      0.72      0.69      2641\n",
            "       B-COM       0.82      0.74      0.78      2599\n",
            "       I-COM       0.81      0.86      0.84      7300\n",
            "     I-SKILL       0.71      0.45      0.55      3886\n",
            "\n",
            "    accuracy                           0.95    258456\n",
            "   macro avg       0.81      0.73      0.76    258456\n",
            "weighted avg       0.95      0.95      0.95    258456\n",
            "\n"
          ],
          "name": "stdout"
        }
      ]
    }
  ]
}