{
  "nbformat": 4,
  "nbformat_minor": 0,
  "metadata": {
    "colab": {
      "name": "ExtractCV_CRF.ipynb",
      "provenance": [],
      "authorship_tag": "ABX9TyPDPdbVAiQvmkUeudyuqo7g",
      "include_colab_link": true
    },
    "kernelspec": {
      "name": "python3",
      "display_name": "Python 3"
    },
    "language_info": {
      "name": "python"
    },
    "accelerator": "GPU"
  },
  "cells": [
    {
      "cell_type": "markdown",
      "metadata": {
        "id": "view-in-github",
        "colab_type": "text"
      },
      "source": [
        "<a href=\"https://colab.research.google.com/github/hauduong05/NER_Extract_CV/blob/main/ExtractCV_CRF.ipynb\" target=\"_parent\"><img src=\"https://colab.research.google.com/assets/colab-badge.svg\" alt=\"Open In Colab\"/></a>"
      ]
    },
    {
      "cell_type": "code",
      "metadata": {
        "colab": {
          "base_uri": "https://localhost:8080/"
        },
        "id": "rusW9NgPUp8f",
        "outputId": "a1dfab48-e8bb-47e4-fbd0-058c4f1c845b"
      },
      "source": [
        "from google.colab import drive\n",
        "drive.mount('/content/gdrive')"
      ],
      "execution_count": 1,
      "outputs": [
        {
          "output_type": "stream",
          "name": "stdout",
          "text": [
            "Mounted at /content/gdrive\n"
          ]
        }
      ]
    },
    {
      "cell_type": "code",
      "metadata": {
        "id": "XD4l_eP74gV2"
      },
      "source": [
        "!pip install sklearn_crfsuite"
      ],
      "execution_count": null,
      "outputs": []
    },
    {
      "cell_type": "code",
      "metadata": {
        "id": "8v8l3tbmVTFo"
      },
      "source": [
        "import pandas as pd\n",
        "from sklearn.model_selection import train_test_split\n",
        "from sklearn_crfsuite import CRF\n",
        "from sklearn_crfsuite.metrics import flat_f1_score\n",
        "from sklearn_crfsuite.metrics import flat_classification_report"
      ],
      "execution_count": 3,
      "outputs": []
    },
    {
      "cell_type": "code",
      "metadata": {
        "colab": {
          "base_uri": "https://localhost:8080/"
        },
        "id": "wE1so9ylVkpe",
        "outputId": "76f0e9ac-1225-4107-a5e9-e25daac24f22"
      },
      "source": [
        "# read_data\n",
        "\n",
        "header = ['Word', 'Pos', 'Chunking-Tag', 'Tag']\n",
        "\n",
        "train_dt = pd.read_csv('/content/gdrive/MyDrive/NER/train-1.csv', sep= r'\\t', names=header)\n",
        "dev_dt = pd.read_csv('/content/gdrive/MyDrive/NER/dev-1.csv', sep = r'\\t', names=header)\n",
        "test_dt = pd.read_csv('/content/gdrive/MyDrive/NER/test-1.csv', sep = r'\\t', names=header)\n",
        "\n",
        "dt = pd.concat([train_dt, dev_dt, test_dt])\n",
        "print(dt)"
      ],
      "execution_count": 4,
      "outputs": [
        {
          "output_type": "stream",
          "name": "stderr",
          "text": [
            "/usr/local/lib/python3.7/dist-packages/ipykernel_launcher.py:5: ParserWarning: Falling back to the 'python' engine because the 'c' engine does not support regex separators (separators > 1 char and different from '\\s+' are interpreted as regex); you can avoid this warning by specifying engine='python'.\n",
            "  \"\"\"\n",
            "/usr/local/lib/python3.7/dist-packages/ipykernel_launcher.py:6: ParserWarning: Falling back to the 'python' engine because the 'c' engine does not support regex separators (separators > 1 char and different from '\\s+' are interpreted as regex); you can avoid this warning by specifying engine='python'.\n",
            "  \n",
            "/usr/local/lib/python3.7/dist-packages/ipykernel_launcher.py:7: ParserWarning: Falling back to the 'python' engine because the 'c' engine does not support regex separators (separators > 1 char and different from '\\s+' are interpreted as regex); you can avoid this warning by specifying engine='python'.\n",
            "  import sys\n"
          ]
        },
        {
          "output_type": "stream",
          "name": "stdout",
          "text": [
            "                Word Pos Chunking-Tag Tag\n",
            "0                Tạo   V         B-VP   O\n",
            "1                các   L         B-NP   O\n",
            "2       Module_Agent  Np         B-NP   O\n",
            "3                  ,  CH            O   O\n",
            "4         Callcenter  Np         B-NP   O\n",
            "...              ...  ..          ...  ..\n",
            "258568             ,  CH            O   O\n",
            "258569     phần_cứng   N         B-NP   O\n",
            "258570            và   C            O   O\n",
            "258571      phần_mềm   N         B-NP   O\n",
            "258572             .  CH            O   O\n",
            "\n",
            "[1284092 rows x 4 columns]\n"
          ]
        }
      ]
    },
    {
      "cell_type": "code",
      "metadata": {
        "id": "GL8EHRiQk_v2"
      },
      "source": [
        "# handing missing value\n",
        "\n",
        "dt.isnull().sum()\n",
        "dt = dt.fillna(method = 'ffill')"
      ],
      "execution_count": 5,
      "outputs": []
    },
    {
      "cell_type": "code",
      "metadata": {
        "id": "W8FYoL_KmjQb"
      },
      "source": [
        "# group data into sentences\n",
        "\n",
        "id = 1\n",
        "sent_id = []\n",
        "\n",
        "for i in dt['Word']:\n",
        "  sent_id.append(id)\n",
        "  if i == '.':\n",
        "    id += 1\n",
        "  \n",
        "dt['Sentence'] = sent_id\n",
        "func = lambda s: [(w, p, t) for w, p, t in zip(s['Word'].values.tolist(),\n",
        "                                                    s['Pos'].values.tolist(),\n",
        "                                                    s['Tag'].values.tolist())]\n",
        "sentences = dt.groupby('Sentence').apply(func)\n",
        "sentences = sentences.values"
      ],
      "execution_count": 6,
      "outputs": []
    },
    {
      "cell_type": "code",
      "metadata": {
        "id": "dTjG2djv2slh"
      },
      "source": [
        "# get features \n",
        "\n",
        "def word2features(sent, i):\n",
        "    word = sent[i][0]\n",
        "    postag = sent[i][1]\n",
        "\n",
        "    features = {\n",
        "        'bias': 1.0,\n",
        "        'word.lower()': word.lower(),\n",
        "        'word[-3:]': word[-3:],\n",
        "        'word[-2:]': word[-2:],\n",
        "        'word.isupper()': word.isupper(),\n",
        "        'word.istitle()': word.istitle(),\n",
        "        'word.isdigit()': word.isdigit(),\n",
        "        'postag': postag,\n",
        "        'postag[:2]': postag[:2],\n",
        "    }\n",
        "    if i > 0:\n",
        "        word1 = sent[i-1][0]\n",
        "        postag1 = sent[i-1][1]\n",
        "        features.update({\n",
        "            '-1:word.lower()': word1.lower(),\n",
        "            '-1:word.istitle()': word1.istitle(),\n",
        "            '-1:word.isupper()': word1.isupper(),\n",
        "            '-1:postag': postag1,\n",
        "            '-1:postag[:2]': postag1[:2],\n",
        "        })\n",
        "    else:\n",
        "        features['BOS'] = True\n",
        "\n",
        "    if i < len(sent)-1:\n",
        "        word1 = sent[i+1][0]\n",
        "        postag1 = sent[i+1][1]\n",
        "        features.update({\n",
        "            '+1:word.lower()': word1.lower(),\n",
        "            '+1:word.istitle()': word1.istitle(),\n",
        "            '+1:word.isupper()': word1.isupper(),\n",
        "            '+1:postag': postag1,\n",
        "            '+1:postag[:2]': postag1[:2],\n",
        "        })\n",
        "    else:\n",
        "        features['EOS'] = True\n",
        "\n",
        "    return features\n",
        "\n",
        "def sent2features(sent):\n",
        "  return [word2features(sent, i) for i in range(len(sent))]\n",
        "\n",
        "def sent2labels(sent):\n",
        "  return [label for word, pos, label in sent]\n",
        "   "
      ],
      "execution_count": 7,
      "outputs": []
    },
    {
      "cell_type": "code",
      "metadata": {
        "id": "RExU02K_4PGJ"
      },
      "source": [
        "# prepare data\n",
        "\n",
        "X = [sent2features(s) for s in sentences]\n",
        "y = [sent2labels(s) for s in sentences]\n",
        "\n",
        "X_train, X_test , y_train, y_test = train_test_split(X, y, test_size = 0.2)"
      ],
      "execution_count": 8,
      "outputs": []
    },
    {
      "cell_type": "code",
      "metadata": {
        "colab": {
          "base_uri": "https://localhost:8080/"
        },
        "id": "G8smhXuv5uKn",
        "outputId": "05082c9f-2ba1-4c7e-b3ec-bfad73316ae7"
      },
      "source": [
        "crf = CRF(algorithm = 'lbfgs',\n",
        "         c1 = 0.1,\n",
        "         c2 = 0.1,\n",
        "         max_iterations = 100,\n",
        "         all_possible_transitions = False)\n",
        "crf.fit(X_train, y_train)"
      ],
      "execution_count": 9,
      "outputs": [
        {
          "output_type": "stream",
          "name": "stderr",
          "text": [
            "/usr/local/lib/python3.7/dist-packages/sklearn/base.py:197: FutureWarning: From version 0.24, get_params will raise an AttributeError if a parameter cannot be retrieved as an instance attribute. Previously it would return None.\n",
            "  FutureWarning)\n"
          ]
        },
        {
          "output_type": "execute_result",
          "data": {
            "text/plain": [
              "CRF(algorithm='lbfgs', all_possible_states=None, all_possible_transitions=False,\n",
              "    averaging=None, c=None, c1=0.1, c2=0.1, calibration_candidates=None,\n",
              "    calibration_eta=None, calibration_max_trials=None, calibration_rate=None,\n",
              "    calibration_samples=None, delta=None, epsilon=None, error_sensitive=None,\n",
              "    gamma=None, keep_tempfiles=None, linesearch=None, max_iterations=100,\n",
              "    max_linesearch=None, min_freq=None, model_filename=None, num_memories=None,\n",
              "    pa_type=None, period=None, trainer_cls=None, variance=None, verbose=False)"
            ]
          },
          "metadata": {},
          "execution_count": 9
        }
      ]
    },
    {
      "cell_type": "code",
      "metadata": {
        "colab": {
          "base_uri": "https://localhost:8080/"
        },
        "id": "W59XYDWX5wkW",
        "outputId": "e1a526dd-dced-46bd-f9a0-fcf26d4d6902"
      },
      "source": [
        "# predict\n",
        "\n",
        "y_pred = crf.predict(X_test)\n",
        "\n",
        "f1_score = flat_f1_score(y_test, y_pred, average = 'weighted')\n",
        "print(f' f1 score = {f1_score:.3f} \\n')\n",
        "\n",
        "print(flat_classification_report(y_test, y_pred))"
      ],
      "execution_count": 10,
      "outputs": [
        {
          "output_type": "stream",
          "name": "stdout",
          "text": [
            " f1 score = 0.952 \n",
            "\n",
            "              precision    recall  f1-score   support\n",
            "\n",
            "       B-COM       0.86      0.75      0.80      2502\n",
            "       B-POS       0.84      0.72      0.78      2035\n",
            "     B-SKILL       0.82      0.67      0.74      9237\n",
            "       I-COM       0.87      0.84      0.86      7061\n",
            "       I-POS       0.74      0.66      0.69      2695\n",
            "     I-SKILL       0.71      0.50      0.59      3800\n",
            "           O       0.97      0.98      0.98    227717\n",
            "\n",
            "    accuracy                           0.95    255047\n",
            "   macro avg       0.83      0.73      0.78    255047\n",
            "weighted avg       0.95      0.95      0.95    255047\n",
            "\n"
          ]
        }
      ]
    }
  ]
}